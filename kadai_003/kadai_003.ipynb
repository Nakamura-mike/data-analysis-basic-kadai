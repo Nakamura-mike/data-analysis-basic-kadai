{
  "cells": [
    {
      "cell_type": "code",
      "source": [
        "# Step1. NumPyをインポートするコードを記述する\n",
        "import numpy as np\n",
        "\n",
        "# Step2. AとBの行列を格納する多次元配列のコードを記述する\n",
        "A = np.array([[0, 1], [2, 3], [4, 5]])\n",
        "B = np.array([[0, 1, 2, 3], [4, 5, 6, 7]])\n",
        "\n",
        "# Step3. 行列の積の計算をするコードを記述する\n",
        "C = np.dot(A, B)\n",
        "\n",
        "# Step4. Step3.の計算結果を表示するコードを記述する\n",
        "print(C)\n",
        "\n",
        "# Step5. 行列の要素の最大値を求めるコードを記述する\n",
        "C.max()"
      ],
      "metadata": {
        "id": "YQbVFAPSQ4AM",
        "colab": {
          "base_uri": "https://localhost:8080/"
        },
        "outputId": "88ab4e00-8e42-4f52-92bc-f92d337e892c"
      },
      "execution_count": 20,
      "outputs": [
        {
          "output_type": "stream",
          "name": "stdout",
          "text": [
            "[[ 4  5  6  7]\n",
            " [12 17 22 27]\n",
            " [20 29 38 47]]\n"
          ]
        },
        {
          "output_type": "execute_result",
          "data": {
            "text/plain": [
              "np.int64(47)"
            ]
          },
          "metadata": {},
          "execution_count": 20
        }
      ]
    }
  ],
  "metadata": {
    "accelerator": "GPU",
    "colab": {
      "gpuType": "T4",
      "provenance": []
    },
    "kernelspec": {
      "display_name": "Python 3",
      "name": "python3"
    },
    "language_info": {
      "name": "python"
    }
  },
  "nbformat": 4,
  "nbformat_minor": 0
}